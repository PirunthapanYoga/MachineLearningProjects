{
 "cells": [
  {
   "cell_type": "code",
   "execution_count": 1,
   "metadata": {},
   "outputs": [],
   "source": [
    "import pandas as pd\n",
    "import numpy as np\n",
    "import matplotlib.pyplot as plt\n",
    "import seaborn as sns\n",
    "import sklearn\n",
    "from scipy.stats import pearsonr \n",
    "from sklearn.neural_network import MLPClassifier\n",
    "import statistics\n",
    "import sklearn.preprocessing as preprocessing\n",
    "import matplotlib.pyplot as plt\n",
    "\n",
    "import lightgbm as lgb"
   ]
  },
  {
   "cell_type": "code",
   "execution_count": 2,
   "metadata": {},
   "outputs": [],
   "source": [
    "train = pd.read_csv(\"C:\\\\Users\\\\2017e082\\\\Desktop\\\\EC9560\\\\LAB_01_EC9560_2017E082\\\\train.csv\")\n",
    "test = pd.read_csv(\"C:\\\\Users\\\\2017e082\\\\Desktop\\\\EC9560\\\\LAB_01_EC9560_2017E082\\\\test.csv\")"
   ]
  },
  {
   "cell_type": "code",
   "execution_count": 3,
   "metadata": {},
   "outputs": [
    {
     "name": "stdout",
     "output_type": "stream",
     "text": [
      "Train =  (88858, 10)\n",
      "Test =  (59310, 9)\n"
     ]
    }
   ],
   "source": [
    "print(\"Train = \" ,train.shape)\n",
    "print(\"Test = \" ,test.shape)"
   ]
  },
  {
   "cell_type": "code",
   "execution_count": 4,
   "metadata": {},
   "outputs": [
    {
     "name": "stdout",
     "output_type": "stream",
     "text": [
      "Train Information\n",
      "<class 'pandas.core.frame.DataFrame'>\n",
      "RangeIndex: 88858 entries, 0 to 88857\n",
      "Data columns (total 10 columns):\n",
      "ID                         88858 non-null object\n",
      "Estimated_Insects_Count    88858 non-null int64\n",
      "Crop_Type                  88858 non-null int64\n",
      "Soil_Type                  88858 non-null int64\n",
      "Pesticide_Use_Category     88858 non-null int64\n",
      "Number_Doses_Week          88858 non-null int64\n",
      "Number_Weeks_Used          79858 non-null float64\n",
      "Number_Weeks_Quit          88858 non-null int64\n",
      "Season                     88858 non-null int64\n",
      "Crop_Damage                88858 non-null int64\n",
      "dtypes: float64(1), int64(8), object(1)\n",
      "memory usage: 6.8+ MB\n",
      "None\n",
      "\n",
      "Test Information\n",
      "<class 'pandas.core.frame.DataFrame'>\n",
      "RangeIndex: 59310 entries, 0 to 59309\n",
      "Data columns (total 9 columns):\n",
      "ID                         59310 non-null object\n",
      "Estimated_Insects_Count    59310 non-null int64\n",
      "Crop_Type                  59310 non-null int64\n",
      "Soil_Type                  59310 non-null int64\n",
      "Pesticide_Use_Category     59310 non-null int64\n",
      "Number_Doses_Week          59310 non-null int64\n",
      "Number_Weeks_Used          53417 non-null float64\n",
      "Number_Weeks_Quit          59310 non-null int64\n",
      "Season                     59310 non-null int64\n",
      "dtypes: float64(1), int64(7), object(1)\n",
      "memory usage: 4.1+ MB\n",
      "None\n"
     ]
    }
   ],
   "source": [
    "print(\"Train Information\")\n",
    "print(train.info())\n",
    "print(\"\\nTest Information\")\n",
    "print(test.info())"
   ]
  },
  {
   "cell_type": "code",
   "execution_count": 5,
   "metadata": {},
   "outputs": [],
   "source": [
    "ID=pd.DataFrame(test[\"ID\"])"
   ]
  },
  {
   "cell_type": "code",
   "execution_count": 6,
   "metadata": {},
   "outputs": [],
   "source": [
    "del test[\"ID\"]\n",
    "del train[\"ID\"]"
   ]
  },
  {
   "cell_type": "code",
   "execution_count": 7,
   "metadata": {},
   "outputs": [
    {
     "data": {
      "text/html": [
       "<div>\n",
       "<style scoped>\n",
       "    .dataframe tbody tr th:only-of-type {\n",
       "        vertical-align: middle;\n",
       "    }\n",
       "\n",
       "    .dataframe tbody tr th {\n",
       "        vertical-align: top;\n",
       "    }\n",
       "\n",
       "    .dataframe thead th {\n",
       "        text-align: right;\n",
       "    }\n",
       "</style>\n",
       "<table border=\"1\" class=\"dataframe\">\n",
       "  <thead>\n",
       "    <tr style=\"text-align: right;\">\n",
       "      <th></th>\n",
       "      <th>Estimated_Insects_Count</th>\n",
       "      <th>Crop_Type</th>\n",
       "      <th>Soil_Type</th>\n",
       "      <th>Pesticide_Use_Category</th>\n",
       "      <th>Number_Doses_Week</th>\n",
       "      <th>Number_Weeks_Used</th>\n",
       "      <th>Number_Weeks_Quit</th>\n",
       "      <th>Season</th>\n",
       "      <th>Crop_Damage</th>\n",
       "    </tr>\n",
       "  </thead>\n",
       "  <tbody>\n",
       "    <tr>\n",
       "      <td>count</td>\n",
       "      <td>88858.000000</td>\n",
       "      <td>88858.000000</td>\n",
       "      <td>88858.000000</td>\n",
       "      <td>88858.000000</td>\n",
       "      <td>88858.000000</td>\n",
       "      <td>79858.000000</td>\n",
       "      <td>88858.000000</td>\n",
       "      <td>88858.000000</td>\n",
       "      <td>88858.000000</td>\n",
       "    </tr>\n",
       "    <tr>\n",
       "      <td>mean</td>\n",
       "      <td>1399.012210</td>\n",
       "      <td>0.284375</td>\n",
       "      <td>0.458417</td>\n",
       "      <td>2.264186</td>\n",
       "      <td>25.849952</td>\n",
       "      <td>28.623970</td>\n",
       "      <td>9.589986</td>\n",
       "      <td>1.896959</td>\n",
       "      <td>0.190562</td>\n",
       "    </tr>\n",
       "    <tr>\n",
       "      <td>std</td>\n",
       "      <td>849.048781</td>\n",
       "      <td>0.451119</td>\n",
       "      <td>0.498271</td>\n",
       "      <td>0.461772</td>\n",
       "      <td>15.554428</td>\n",
       "      <td>12.391881</td>\n",
       "      <td>9.900631</td>\n",
       "      <td>0.701322</td>\n",
       "      <td>0.454215</td>\n",
       "    </tr>\n",
       "    <tr>\n",
       "      <td>min</td>\n",
       "      <td>150.000000</td>\n",
       "      <td>0.000000</td>\n",
       "      <td>0.000000</td>\n",
       "      <td>1.000000</td>\n",
       "      <td>0.000000</td>\n",
       "      <td>0.000000</td>\n",
       "      <td>0.000000</td>\n",
       "      <td>1.000000</td>\n",
       "      <td>0.000000</td>\n",
       "    </tr>\n",
       "    <tr>\n",
       "      <td>25%</td>\n",
       "      <td>731.000000</td>\n",
       "      <td>0.000000</td>\n",
       "      <td>0.000000</td>\n",
       "      <td>2.000000</td>\n",
       "      <td>15.000000</td>\n",
       "      <td>20.000000</td>\n",
       "      <td>0.000000</td>\n",
       "      <td>1.000000</td>\n",
       "      <td>0.000000</td>\n",
       "    </tr>\n",
       "    <tr>\n",
       "      <td>50%</td>\n",
       "      <td>1212.000000</td>\n",
       "      <td>0.000000</td>\n",
       "      <td>0.000000</td>\n",
       "      <td>2.000000</td>\n",
       "      <td>20.000000</td>\n",
       "      <td>28.000000</td>\n",
       "      <td>7.000000</td>\n",
       "      <td>2.000000</td>\n",
       "      <td>0.000000</td>\n",
       "    </tr>\n",
       "    <tr>\n",
       "      <td>75%</td>\n",
       "      <td>1898.000000</td>\n",
       "      <td>1.000000</td>\n",
       "      <td>1.000000</td>\n",
       "      <td>3.000000</td>\n",
       "      <td>40.000000</td>\n",
       "      <td>37.000000</td>\n",
       "      <td>16.000000</td>\n",
       "      <td>2.000000</td>\n",
       "      <td>0.000000</td>\n",
       "    </tr>\n",
       "    <tr>\n",
       "      <td>max</td>\n",
       "      <td>4097.000000</td>\n",
       "      <td>1.000000</td>\n",
       "      <td>1.000000</td>\n",
       "      <td>3.000000</td>\n",
       "      <td>95.000000</td>\n",
       "      <td>67.000000</td>\n",
       "      <td>50.000000</td>\n",
       "      <td>3.000000</td>\n",
       "      <td>2.000000</td>\n",
       "    </tr>\n",
       "  </tbody>\n",
       "</table>\n",
       "</div>"
      ],
      "text/plain": [
       "       Estimated_Insects_Count     Crop_Type     Soil_Type  \\\n",
       "count             88858.000000  88858.000000  88858.000000   \n",
       "mean               1399.012210      0.284375      0.458417   \n",
       "std                 849.048781      0.451119      0.498271   \n",
       "min                 150.000000      0.000000      0.000000   \n",
       "25%                 731.000000      0.000000      0.000000   \n",
       "50%                1212.000000      0.000000      0.000000   \n",
       "75%                1898.000000      1.000000      1.000000   \n",
       "max                4097.000000      1.000000      1.000000   \n",
       "\n",
       "       Pesticide_Use_Category  Number_Doses_Week  Number_Weeks_Used  \\\n",
       "count            88858.000000       88858.000000       79858.000000   \n",
       "mean                 2.264186          25.849952          28.623970   \n",
       "std                  0.461772          15.554428          12.391881   \n",
       "min                  1.000000           0.000000           0.000000   \n",
       "25%                  2.000000          15.000000          20.000000   \n",
       "50%                  2.000000          20.000000          28.000000   \n",
       "75%                  3.000000          40.000000          37.000000   \n",
       "max                  3.000000          95.000000          67.000000   \n",
       "\n",
       "       Number_Weeks_Quit        Season   Crop_Damage  \n",
       "count       88858.000000  88858.000000  88858.000000  \n",
       "mean            9.589986      1.896959      0.190562  \n",
       "std             9.900631      0.701322      0.454215  \n",
       "min             0.000000      1.000000      0.000000  \n",
       "25%             0.000000      1.000000      0.000000  \n",
       "50%             7.000000      2.000000      0.000000  \n",
       "75%            16.000000      2.000000      0.000000  \n",
       "max            50.000000      3.000000      2.000000  "
      ]
     },
     "execution_count": 7,
     "metadata": {},
     "output_type": "execute_result"
    }
   ],
   "source": [
    "train.describe()"
   ]
  },
  {
   "cell_type": "code",
   "execution_count": 8,
   "metadata": {},
   "outputs": [
    {
     "data": {
      "text/html": [
       "<div>\n",
       "<style scoped>\n",
       "    .dataframe tbody tr th:only-of-type {\n",
       "        vertical-align: middle;\n",
       "    }\n",
       "\n",
       "    .dataframe tbody tr th {\n",
       "        vertical-align: top;\n",
       "    }\n",
       "\n",
       "    .dataframe thead th {\n",
       "        text-align: right;\n",
       "    }\n",
       "</style>\n",
       "<table border=\"1\" class=\"dataframe\">\n",
       "  <thead>\n",
       "    <tr style=\"text-align: right;\">\n",
       "      <th></th>\n",
       "      <th>Estimated_Insects_Count</th>\n",
       "      <th>Crop_Type</th>\n",
       "      <th>Soil_Type</th>\n",
       "      <th>Pesticide_Use_Category</th>\n",
       "      <th>Number_Doses_Week</th>\n",
       "      <th>Number_Weeks_Used</th>\n",
       "      <th>Number_Weeks_Quit</th>\n",
       "      <th>Season</th>\n",
       "    </tr>\n",
       "  </thead>\n",
       "  <tbody>\n",
       "    <tr>\n",
       "      <td>count</td>\n",
       "      <td>59310.000000</td>\n",
       "      <td>59310.000000</td>\n",
       "      <td>59310.000000</td>\n",
       "      <td>59310.000000</td>\n",
       "      <td>59310.000000</td>\n",
       "      <td>53417.000000</td>\n",
       "      <td>59310.000000</td>\n",
       "      <td>59310.000000</td>\n",
       "    </tr>\n",
       "    <tr>\n",
       "      <td>mean</td>\n",
       "      <td>1397.014129</td>\n",
       "      <td>0.287068</td>\n",
       "      <td>0.455117</td>\n",
       "      <td>2.263227</td>\n",
       "      <td>25.851880</td>\n",
       "      <td>28.705094</td>\n",
       "      <td>9.528376</td>\n",
       "      <td>1.900877</td>\n",
       "    </tr>\n",
       "    <tr>\n",
       "      <td>std</td>\n",
       "      <td>849.425808</td>\n",
       "      <td>0.452397</td>\n",
       "      <td>0.497986</td>\n",
       "      <td>0.461733</td>\n",
       "      <td>15.481957</td>\n",
       "      <td>12.421211</td>\n",
       "      <td>9.855341</td>\n",
       "      <td>0.701934</td>\n",
       "    </tr>\n",
       "    <tr>\n",
       "      <td>min</td>\n",
       "      <td>150.000000</td>\n",
       "      <td>0.000000</td>\n",
       "      <td>0.000000</td>\n",
       "      <td>1.000000</td>\n",
       "      <td>0.000000</td>\n",
       "      <td>0.000000</td>\n",
       "      <td>0.000000</td>\n",
       "      <td>1.000000</td>\n",
       "    </tr>\n",
       "    <tr>\n",
       "      <td>25%</td>\n",
       "      <td>731.000000</td>\n",
       "      <td>0.000000</td>\n",
       "      <td>0.000000</td>\n",
       "      <td>2.000000</td>\n",
       "      <td>15.000000</td>\n",
       "      <td>20.000000</td>\n",
       "      <td>0.000000</td>\n",
       "      <td>1.000000</td>\n",
       "    </tr>\n",
       "    <tr>\n",
       "      <td>50%</td>\n",
       "      <td>1212.000000</td>\n",
       "      <td>0.000000</td>\n",
       "      <td>0.000000</td>\n",
       "      <td>2.000000</td>\n",
       "      <td>20.000000</td>\n",
       "      <td>28.000000</td>\n",
       "      <td>7.000000</td>\n",
       "      <td>2.000000</td>\n",
       "    </tr>\n",
       "    <tr>\n",
       "      <td>75%</td>\n",
       "      <td>1898.000000</td>\n",
       "      <td>1.000000</td>\n",
       "      <td>1.000000</td>\n",
       "      <td>3.000000</td>\n",
       "      <td>40.000000</td>\n",
       "      <td>38.000000</td>\n",
       "      <td>16.000000</td>\n",
       "      <td>2.000000</td>\n",
       "    </tr>\n",
       "    <tr>\n",
       "      <td>max</td>\n",
       "      <td>4097.000000</td>\n",
       "      <td>1.000000</td>\n",
       "      <td>1.000000</td>\n",
       "      <td>3.000000</td>\n",
       "      <td>95.000000</td>\n",
       "      <td>67.000000</td>\n",
       "      <td>50.000000</td>\n",
       "      <td>3.000000</td>\n",
       "    </tr>\n",
       "  </tbody>\n",
       "</table>\n",
       "</div>"
      ],
      "text/plain": [
       "       Estimated_Insects_Count     Crop_Type     Soil_Type  \\\n",
       "count             59310.000000  59310.000000  59310.000000   \n",
       "mean               1397.014129      0.287068      0.455117   \n",
       "std                 849.425808      0.452397      0.497986   \n",
       "min                 150.000000      0.000000      0.000000   \n",
       "25%                 731.000000      0.000000      0.000000   \n",
       "50%                1212.000000      0.000000      0.000000   \n",
       "75%                1898.000000      1.000000      1.000000   \n",
       "max                4097.000000      1.000000      1.000000   \n",
       "\n",
       "       Pesticide_Use_Category  Number_Doses_Week  Number_Weeks_Used  \\\n",
       "count            59310.000000       59310.000000       53417.000000   \n",
       "mean                 2.263227          25.851880          28.705094   \n",
       "std                  0.461733          15.481957          12.421211   \n",
       "min                  1.000000           0.000000           0.000000   \n",
       "25%                  2.000000          15.000000          20.000000   \n",
       "50%                  2.000000          20.000000          28.000000   \n",
       "75%                  3.000000          40.000000          38.000000   \n",
       "max                  3.000000          95.000000          67.000000   \n",
       "\n",
       "       Number_Weeks_Quit        Season  \n",
       "count       59310.000000  59310.000000  \n",
       "mean            9.528376      1.900877  \n",
       "std             9.855341      0.701934  \n",
       "min             0.000000      1.000000  \n",
       "25%             0.000000      1.000000  \n",
       "50%             7.000000      2.000000  \n",
       "75%            16.000000      2.000000  \n",
       "max            50.000000      3.000000  "
      ]
     },
     "execution_count": 8,
     "metadata": {},
     "output_type": "execute_result"
    }
   ],
   "source": [
    "test.describe()"
   ]
  },
  {
   "cell_type": "code",
   "execution_count": 9,
   "metadata": {},
   "outputs": [
    {
     "name": "stdout",
     "output_type": "stream",
     "text": [
      "Estimated_Insects_Count\n",
      "[188, 209, 257, 342, 448, 577, 731, 1132, 1212, 1575, 1785, 2138, 2401, 2999, 3516, 3895, 4096, 150, 151, 168, 232, 231, 256, 283, 312, 311, 375, 411, 410, 488, 489, 531, 626, 625, 677, 732, 789, 790, 851, 850, 915, 916, 984, 1056, 1296, 1297, 1385, 1478, 1576, 1678, 1786, 1898, 2015, 2016, 2139, 2267, 2402, 2542, 2541, 2688, 2687, 2840, 3164, 3165, 3336, 3337, 3702, 3896, 169, 3515, 4097]\n",
      "\n",
      "Crop_Type\n",
      "[1, 0]\n",
      "\n",
      "Soil_Type\n",
      "[0, 1]\n",
      "\n",
      "Pesticide_Use_Category\n",
      "[1, 3, 2]\n",
      "\n",
      "Number_Doses_Week\n",
      "[0, 30, 40, 60, 20, 25, 45, 50, 15, 10, 5, 35, 70, 55, 80, 90, 85, 65, 75, 95]\n",
      "\n",
      "Number_Weeks_Used\n",
      "[0.0, nan, 26.0, 20.0, 15.0, 14.0, 19.0, 24.0, 8.0, 23.0, 25.0, 28.0, 29.0, 22.0, 21.0, 17.0, 30.0, 35.0, 32.0, 27.0, 16.0, 31.0, 33.0, 34.0, 39.0, 38.0, 42.0, 40.0, 41.0, 36.0, 44.0, 37.0, 46.0, 45.0, 47.0, 43.0, 50.0, 10.0, 49.0, 53.0, 48.0, 51.0, 54.0, 52.0, 55.0, 56.0, 61.0, 18.0, 57.0, 62.0, 60.0, 63.0, 66.0, 59.0, 64.0, 13.0, 7.0, 5.0, 12.0, 6.0, 9.0, 58.0, 11.0, 65.0, 67.0]\n",
      "\n",
      "Number_Weeks_Quit\n",
      "[0, 1, 9, 4, 13, 3, 14, 6, 2, 12, 15, 10, 8, 11, 7, 5, 17, 18, 16, 20, 21, 19, 22, 24, 23, 27, 25, 28, 26, 29, 30, 31, 33, 32, 36, 37, 34, 39, 44, 41, 35, 47, 46, 40, 42, 38, 43, 45, 49, 50, 48]\n",
      "\n",
      "Season\n",
      "[1, 2, 3]\n",
      "\n",
      "Crop_Damage\n",
      "[0, 1, 2]\n",
      "\n"
     ]
    }
   ],
   "source": [
    "for x in train:\n",
    "    print(x)\n",
    "    print(list(train[x].unique()))\n",
    "    print()"
   ]
  },
  {
   "cell_type": "code",
   "execution_count": 10,
   "metadata": {},
   "outputs": [
    {
     "name": "stdout",
     "output_type": "stream",
     "text": [
      "Estimated_Insects_Count\n",
      "[188, 410, 626, 731, 789, 851, 1056, 1576, 1898, 2016, 2015, 2267, 2541, 2840, 2999, 3164, 3336, 150, 168, 209, 232, 231, 256, 311, 312, 342, 375, 411, 448, 488, 489, 531, 577, 625, 677, 732, 790, 850, 916, 915, 984, 1132, 1212, 1296, 1297, 1385, 1478, 1575, 1678, 1786, 1785, 2139, 2138, 2401, 2402, 2542, 2688, 2687, 3165, 3337, 3515, 3702, 3896, 3895, 4096, 151, 283, 3516, 4097, 257, 169]\n",
      "\n",
      "Crop_Type\n",
      "[1, 0]\n",
      "\n",
      "Soil_Type\n",
      "[1, 0]\n",
      "\n",
      "Pesticide_Use_Category\n",
      "[1, 3, 2]\n",
      "\n",
      "Number_Doses_Week\n",
      "[0, 30, 40, 20, 35, 65, 5, 15, 25, 10, 60, 80, 50, 45, 90, 70, 55, 75, 95, 85]\n",
      "\n",
      "Number_Weeks_Used\n",
      "[nan, 0.0, 20.0, 19.0, 10.0, 14.0, 22.0, 13.0, 26.0, 17.0, 15.0, 25.0, 18.0, 29.0, 23.0, 27.0, 34.0, 16.0, 35.0, 28.0, 21.0, 12.0, 31.0, 33.0, 24.0, 36.0, 38.0, 30.0, 32.0, 6.0, 41.0, 7.0, 37.0, 40.0, 39.0, 45.0, 47.0, 42.0, 43.0, 44.0, 50.0, 52.0, 48.0, 46.0, 49.0, 56.0, 57.0, 54.0, 51.0, 53.0, 58.0, 59.0, 64.0, 62.0, 5.0, 9.0, 55.0, 8.0, 11.0, 61.0, 60.0, 65.0, 67.0, 66.0, 63.0]\n",
      "\n",
      "Number_Weeks_Quit\n",
      "[0, 2, 4, 3, 11, 6, 10, 13, 7, 12, 9, 15, 8, 16, 14, 1, 17, 5, 18, 20, 22, 19, 24, 21, 25, 27, 29, 28, 30, 23, 33, 32, 34, 31, 36, 41, 37, 39, 40, 35, 42, 26, 38, 43, 45, 50, 44, 48, 46, 47, 49]\n",
      "\n",
      "Season\n",
      "[2, 1, 3]\n",
      "\n"
     ]
    }
   ],
   "source": [
    "for x in test:\n",
    "    print(x)\n",
    "    print(list(test[x].unique()))\n",
    "    print()"
   ]
  },
  {
   "cell_type": "code",
   "execution_count": 11,
   "metadata": {},
   "outputs": [
    {
     "name": "stdout",
     "output_type": "stream",
     "text": [
      "Estimated_Insects_Count\n",
      "71\n",
      "\n",
      "Crop_Type\n",
      "2\n",
      "\n",
      "Soil_Type\n",
      "2\n",
      "\n",
      "Pesticide_Use_Category\n",
      "3\n",
      "\n",
      "Number_Doses_Week\n",
      "20\n",
      "\n",
      "Number_Weeks_Used\n",
      "65\n",
      "\n",
      "Number_Weeks_Quit\n",
      "51\n",
      "\n",
      "Season\n",
      "3\n",
      "\n",
      "Crop_Damage\n",
      "3\n",
      "\n"
     ]
    }
   ],
   "source": [
    "for x in train:\n",
    "    print(x)\n",
    "    print(len(train[x].unique()))\n",
    "    print()"
   ]
  },
  {
   "cell_type": "code",
   "execution_count": 12,
   "metadata": {},
   "outputs": [
    {
     "name": "stdout",
     "output_type": "stream",
     "text": [
      "Estimated_Insects_Count\n",
      "71\n",
      "\n",
      "Crop_Type\n",
      "2\n",
      "\n",
      "Soil_Type\n",
      "2\n",
      "\n",
      "Pesticide_Use_Category\n",
      "3\n",
      "\n",
      "Number_Doses_Week\n",
      "20\n",
      "\n",
      "Number_Weeks_Used\n",
      "65\n",
      "\n",
      "Number_Weeks_Quit\n",
      "51\n",
      "\n",
      "Season\n",
      "3\n",
      "\n"
     ]
    }
   ],
   "source": [
    "for x in test:\n",
    "    print(x)\n",
    "    print(len(test[x].unique()))\n",
    "    print()"
   ]
  },
  {
   "cell_type": "code",
   "execution_count": 13,
   "metadata": {},
   "outputs": [
    {
     "name": "stdout",
     "output_type": "stream",
     "text": [
      "After removing the missing value:\n",
      "Training set has 88858 samples.\n",
      "Testing set has 59310 samples.\n",
      "[ 0. 28. 26. 20. 15. 14. 19. 24.  8. 23. 25. 29. 22. 21. 17. 30. 35. 32.\n",
      " 27. 16. 31. 33. 34. 39. 38. 42. 40. 41. 36. 44. 37. 46. 45. 47. 43. 50.\n",
      " 10. 49. 53. 48. 51. 54. 52. 55. 56. 61. 18. 57. 62. 60. 63. 66. 59. 64.\n",
      " 13.  7.  5. 12.  6.  9. 58. 11. 65. 67.]\n",
      "[28.  0. 20. 19. 10. 14. 22. 13. 26. 17. 15. 25. 18. 29. 23. 27. 34. 16.\n",
      " 35. 21. 12. 31. 33. 24. 36. 38. 30. 32.  6. 41.  7. 37. 40. 39. 45. 47.\n",
      " 42. 43. 44. 50. 52. 48. 46. 49. 56. 57. 54. 51. 53. 58. 59. 64. 62.  5.\n",
      "  9. 55.  8. 11. 61. 60. 65. 67. 66. 63.]\n"
     ]
    },
    {
     "data": {
      "text/html": [
       "<div>\n",
       "<style scoped>\n",
       "    .dataframe tbody tr th:only-of-type {\n",
       "        vertical-align: middle;\n",
       "    }\n",
       "\n",
       "    .dataframe tbody tr th {\n",
       "        vertical-align: top;\n",
       "    }\n",
       "\n",
       "    .dataframe thead th {\n",
       "        text-align: right;\n",
       "    }\n",
       "</style>\n",
       "<table border=\"1\" class=\"dataframe\">\n",
       "  <thead>\n",
       "    <tr style=\"text-align: right;\">\n",
       "      <th></th>\n",
       "      <th>Estimated_Insects_Count</th>\n",
       "      <th>Crop_Type</th>\n",
       "      <th>Soil_Type</th>\n",
       "      <th>Pesticide_Use_Category</th>\n",
       "      <th>Number_Doses_Week</th>\n",
       "      <th>Number_Weeks_Used</th>\n",
       "      <th>Number_Weeks_Quit</th>\n",
       "      <th>Season</th>\n",
       "    </tr>\n",
       "  </thead>\n",
       "  <tbody>\n",
       "    <tr>\n",
       "      <td>0</td>\n",
       "      <td>188</td>\n",
       "      <td>1</td>\n",
       "      <td>1</td>\n",
       "      <td>1</td>\n",
       "      <td>0</td>\n",
       "      <td>28.0</td>\n",
       "      <td>0</td>\n",
       "      <td>2</td>\n",
       "    </tr>\n",
       "    <tr>\n",
       "      <td>1</td>\n",
       "      <td>410</td>\n",
       "      <td>1</td>\n",
       "      <td>1</td>\n",
       "      <td>1</td>\n",
       "      <td>0</td>\n",
       "      <td>0.0</td>\n",
       "      <td>0</td>\n",
       "      <td>2</td>\n",
       "    </tr>\n",
       "    <tr>\n",
       "      <td>2</td>\n",
       "      <td>626</td>\n",
       "      <td>1</td>\n",
       "      <td>0</td>\n",
       "      <td>1</td>\n",
       "      <td>0</td>\n",
       "      <td>0.0</td>\n",
       "      <td>0</td>\n",
       "      <td>2</td>\n",
       "    </tr>\n",
       "    <tr>\n",
       "      <td>3</td>\n",
       "      <td>731</td>\n",
       "      <td>1</td>\n",
       "      <td>0</td>\n",
       "      <td>1</td>\n",
       "      <td>0</td>\n",
       "      <td>0.0</td>\n",
       "      <td>0</td>\n",
       "      <td>2</td>\n",
       "    </tr>\n",
       "    <tr>\n",
       "      <td>4</td>\n",
       "      <td>789</td>\n",
       "      <td>0</td>\n",
       "      <td>0</td>\n",
       "      <td>1</td>\n",
       "      <td>0</td>\n",
       "      <td>0.0</td>\n",
       "      <td>0</td>\n",
       "      <td>1</td>\n",
       "    </tr>\n",
       "  </tbody>\n",
       "</table>\n",
       "</div>"
      ],
      "text/plain": [
       "   Estimated_Insects_Count  Crop_Type  Soil_Type  Pesticide_Use_Category  \\\n",
       "0                      188          1          1                       1   \n",
       "1                      410          1          1                       1   \n",
       "2                      626          1          0                       1   \n",
       "3                      731          1          0                       1   \n",
       "4                      789          0          0                       1   \n",
       "\n",
       "   Number_Doses_Week  Number_Weeks_Used  Number_Weeks_Quit  Season  \n",
       "0                  0               28.0                  0       2  \n",
       "1                  0                0.0                  0       2  \n",
       "2                  0                0.0                  0       2  \n",
       "3                  0                0.0                  0       2  \n",
       "4                  0                0.0                  0       1  "
      ]
     },
     "execution_count": 13,
     "metadata": {},
     "output_type": "execute_result"
    }
   ],
   "source": [
    "object_col = train.select_dtypes(include=object).columns.tolist()\n",
    "for col in object_col:\n",
    "    print(adults[col].value_counts(dropna=False)/adults.shape[0],'\\n')\n",
    "    \n",
    "for col in object_col:\n",
    "    train.loc[train[col]=='?', col] = np.nan\n",
    "    test.loc[test[col]=='?', col] = np.nan\n",
    "\n",
    "col_missing_pct = train.isna().sum()/train.shape[0]\n",
    "col_missing_pct.sort_values(ascending=False)\n",
    "\n",
    "train = train.fillna(value=28, axis=0)\n",
    "test = test.fillna(value=28, axis=0)\n",
    "\n",
    "print(\"After removing the missing value:\")\n",
    "print(\"Training set has {} samples.\".format(train.shape[0]))\n",
    "print(\"Testing set has {} samples.\".format(test.shape[0]))\n",
    "print(format(train[\"Number_Weeks_Used\"].unique()))\n",
    "print(format(test[\"Number_Weeks_Used\"].unique()))\n",
    "train.head()\n",
    "test.head()"
   ]
  },
  {
   "cell_type": "code",
   "execution_count": 14,
   "metadata": {},
   "outputs": [
    {
     "name": "stdout",
     "output_type": "stream",
     "text": [
      "Estimated_Insects_Count\n",
      "Crop_Type\n",
      "Soil_Type\n",
      "Pesticide_Use_Category\n",
      "Number_Doses_Week\n",
      "Number_Weeks_Used\n",
      "Number_Weeks_Quit\n",
      "Season\n",
      "Crop_Damage\n"
     ]
    }
   ],
   "source": [
    "for x in train:\n",
    "    print(x)"
   ]
  },
  {
   "cell_type": "code",
   "execution_count": 47,
   "metadata": {},
   "outputs": [
    {
     "data": {
      "image/png": "[encoded data removed]",
      "text/plain": [
       "<Figure size 720x360 with 2 Axes>"
      ]
     },
     "metadata": {
      "needs_background": "light"
     },
     "output_type": "display_data"
    }
   ],
   "source": [
    "cor=train.corr()\n",
    "\n",
    "fig, ax = plt.subplots(figsize=(10,5))\n",
    "bottom, top = ax.get_ylim()\n",
    "ax.set_ylim(bottom + 10 , top - 10)\n",
    "ax = sns.heatmap(cor, annot=True,linewidths=1)\n",
    "plt.show()\n"
   ]
  },
  {
   "cell_type": "code",
   "execution_count": null,
   "metadata": {},
   "outputs": [],
   "source": [
    "X_train=train.drop(labels=\"Crop_Damage\", axis=1)\n",
    "Y_train=train[\"Crop_Damage\"]"
   ]
  },
  {
   "cell_type": "code",
   "execution_count": null,
   "metadata": {},
   "outputs": [],
   "source": [
    "MLP =MLPClassifier(learning_rate_init= 0.001 , hidden_layer_sizes=(100) , solver='adam', max_iter=1000)\n",
    "MLP.fit(X_train, Y_train)"
   ]
  },
  {
   "cell_type": "code",
   "execution_count": null,
   "metadata": {},
   "outputs": [],
   "source": [
    "Y_test=pd.DataFrame(MLP.predict(test),columns =[\"Crop_Damage\"])\n",
    "Y_test"
   ]
  },
  {
   "cell_type": "code",
   "execution_count": null,
   "metadata": {},
   "outputs": [],
   "source": [
    "Y_test.shape"
   ]
  },
  {
   "cell_type": "code",
   "execution_count": null,
   "metadata": {},
   "outputs": [],
   "source": [
    "ID.shape"
   ]
  },
  {
   "cell_type": "code",
   "execution_count": null,
   "metadata": {},
   "outputs": [],
   "source": [
    "df=pd.concat([ID, Y_test], axis=1)"
   ]
  },
  {
   "cell_type": "code",
   "execution_count": null,
   "metadata": {},
   "outputs": [],
   "source": [
    "df"
   ]
  },
  {
   "cell_type": "code",
   "execution_count": null,
   "metadata": {},
   "outputs": [],
   "source": [
    "df.to_csv(\"C:\\\\Users\\\\2017e082\\\\Desktop\\\\EC9560\\\\LAB_01_EC9560_2017E082\\\\result.csv\",index=False)"
   ]
  },
  {
   "cell_type": "code",
   "execution_count": null,
   "metadata": {},
   "outputs": [],
   "source": []
  }
 ],
 "metadata": {
  "kernelspec": {
   "display_name": "Python 3",
   "language": "python",
   "name": "python3"
  },
  "language_info": {
   "codemirror_mode": {
    "name": "ipython",
    "version": 3
   },
   "file_extension": ".py",
   "mimetype": "text/x-python",
   "name": "python",
   "nbconvert_exporter": "python",
   "pygments_lexer": "ipython3",
   "version": "3.7.4"
  }
 },
 "nbformat": 4,
 "nbformat_minor": 2
}
