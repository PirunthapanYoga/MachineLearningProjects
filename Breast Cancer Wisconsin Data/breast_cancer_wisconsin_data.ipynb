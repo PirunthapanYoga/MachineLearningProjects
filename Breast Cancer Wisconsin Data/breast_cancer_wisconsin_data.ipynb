{
 "cells": [
  {
   "cell_type": "code",
   "execution_count": 131,
   "metadata": {},
   "outputs": [],
   "source": [
    "import pandas as pd\n",
    "import numpy as np\n",
    "import matplotlib.pyplot as plt\n",
    "import sklearn\n",
    "import seaborn as sns\n",
    "from sklearn.neighbors import KNeighborsClassifier\n",
    "from sklearn.metrics import accuracy_score\n",
    "from sklearn.metrics import precision_score\n",
    "from sklearn.metrics import recall_score\n",
    "from sklearn.metrics import f1_score\n",
    "from sklearn.metrics import confusion_matrix\n",
    "from sklearn.metrics import classification_report"
   ]
  },
  {
   "cell_type": "code",
   "execution_count": 132,
   "metadata": {},
   "outputs": [
    {
     "data": {
      "text/html": [
       "<div>\n",
       "<style scoped>\n",
       "    .dataframe tbody tr th:only-of-type {\n",
       "        vertical-align: middle;\n",
       "    }\n",
       "\n",
       "    .dataframe tbody tr th {\n",
       "        vertical-align: top;\n",
       "    }\n",
       "\n",
       "    .dataframe thead th {\n",
       "        text-align: right;\n",
       "    }\n",
       "</style>\n",
       "<table border=\"1\" class=\"dataframe\">\n",
       "  <thead>\n",
       "    <tr style=\"text-align: right;\">\n",
       "      <th></th>\n",
       "      <th>Clump Thickness</th>\n",
       "      <th>Uniformity of Cell Size</th>\n",
       "      <th>Uniformity of Cell Shape</th>\n",
       "      <th>Marginal Adhesion</th>\n",
       "      <th>Single Epithelial Cell Size</th>\n",
       "      <th>Bare Nuclei</th>\n",
       "      <th>Bland Chromatin</th>\n",
       "      <th>Normal Nucleoli</th>\n",
       "      <th>Mitoses</th>\n",
       "      <th>Class</th>\n",
       "    </tr>\n",
       "  </thead>\n",
       "  <tbody>\n",
       "    <tr>\n",
       "      <th>0</th>\n",
       "      <td>5</td>\n",
       "      <td>1</td>\n",
       "      <td>1</td>\n",
       "      <td>1</td>\n",
       "      <td>2</td>\n",
       "      <td>1</td>\n",
       "      <td>3</td>\n",
       "      <td>1</td>\n",
       "      <td>1</td>\n",
       "      <td>2</td>\n",
       "    </tr>\n",
       "    <tr>\n",
       "      <th>1</th>\n",
       "      <td>5</td>\n",
       "      <td>4</td>\n",
       "      <td>4</td>\n",
       "      <td>5</td>\n",
       "      <td>7</td>\n",
       "      <td>10</td>\n",
       "      <td>3</td>\n",
       "      <td>2</td>\n",
       "      <td>1</td>\n",
       "      <td>2</td>\n",
       "    </tr>\n",
       "    <tr>\n",
       "      <th>2</th>\n",
       "      <td>3</td>\n",
       "      <td>1</td>\n",
       "      <td>1</td>\n",
       "      <td>1</td>\n",
       "      <td>2</td>\n",
       "      <td>2</td>\n",
       "      <td>3</td>\n",
       "      <td>1</td>\n",
       "      <td>1</td>\n",
       "      <td>2</td>\n",
       "    </tr>\n",
       "    <tr>\n",
       "      <th>3</th>\n",
       "      <td>6</td>\n",
       "      <td>8</td>\n",
       "      <td>8</td>\n",
       "      <td>1</td>\n",
       "      <td>3</td>\n",
       "      <td>4</td>\n",
       "      <td>3</td>\n",
       "      <td>7</td>\n",
       "      <td>1</td>\n",
       "      <td>2</td>\n",
       "    </tr>\n",
       "    <tr>\n",
       "      <th>4</th>\n",
       "      <td>4</td>\n",
       "      <td>1</td>\n",
       "      <td>1</td>\n",
       "      <td>3</td>\n",
       "      <td>2</td>\n",
       "      <td>1</td>\n",
       "      <td>3</td>\n",
       "      <td>1</td>\n",
       "      <td>1</td>\n",
       "      <td>2</td>\n",
       "    </tr>\n",
       "    <tr>\n",
       "      <th>...</th>\n",
       "      <td>...</td>\n",
       "      <td>...</td>\n",
       "      <td>...</td>\n",
       "      <td>...</td>\n",
       "      <td>...</td>\n",
       "      <td>...</td>\n",
       "      <td>...</td>\n",
       "      <td>...</td>\n",
       "      <td>...</td>\n",
       "      <td>...</td>\n",
       "    </tr>\n",
       "    <tr>\n",
       "      <th>694</th>\n",
       "      <td>3</td>\n",
       "      <td>1</td>\n",
       "      <td>1</td>\n",
       "      <td>1</td>\n",
       "      <td>3</td>\n",
       "      <td>2</td>\n",
       "      <td>1</td>\n",
       "      <td>1</td>\n",
       "      <td>1</td>\n",
       "      <td>2</td>\n",
       "    </tr>\n",
       "    <tr>\n",
       "      <th>695</th>\n",
       "      <td>2</td>\n",
       "      <td>1</td>\n",
       "      <td>1</td>\n",
       "      <td>1</td>\n",
       "      <td>2</td>\n",
       "      <td>1</td>\n",
       "      <td>1</td>\n",
       "      <td>1</td>\n",
       "      <td>1</td>\n",
       "      <td>2</td>\n",
       "    </tr>\n",
       "    <tr>\n",
       "      <th>696</th>\n",
       "      <td>5</td>\n",
       "      <td>10</td>\n",
       "      <td>10</td>\n",
       "      <td>3</td>\n",
       "      <td>7</td>\n",
       "      <td>3</td>\n",
       "      <td>8</td>\n",
       "      <td>10</td>\n",
       "      <td>2</td>\n",
       "      <td>4</td>\n",
       "    </tr>\n",
       "    <tr>\n",
       "      <th>697</th>\n",
       "      <td>4</td>\n",
       "      <td>8</td>\n",
       "      <td>6</td>\n",
       "      <td>4</td>\n",
       "      <td>3</td>\n",
       "      <td>4</td>\n",
       "      <td>10</td>\n",
       "      <td>6</td>\n",
       "      <td>1</td>\n",
       "      <td>4</td>\n",
       "    </tr>\n",
       "    <tr>\n",
       "      <th>698</th>\n",
       "      <td>4</td>\n",
       "      <td>8</td>\n",
       "      <td>8</td>\n",
       "      <td>5</td>\n",
       "      <td>4</td>\n",
       "      <td>5</td>\n",
       "      <td>10</td>\n",
       "      <td>4</td>\n",
       "      <td>1</td>\n",
       "      <td>4</td>\n",
       "    </tr>\n",
       "  </tbody>\n",
       "</table>\n",
       "<p>699 rows × 10 columns</p>\n",
       "</div>"
      ],
      "text/plain": [
       "     Clump Thickness  Uniformity of Cell Size  Uniformity of Cell Shape  \\\n",
       "0                  5                        1                         1   \n",
       "1                  5                        4                         4   \n",
       "2                  3                        1                         1   \n",
       "3                  6                        8                         8   \n",
       "4                  4                        1                         1   \n",
       "..               ...                      ...                       ...   \n",
       "694                3                        1                         1   \n",
       "695                2                        1                         1   \n",
       "696                5                       10                        10   \n",
       "697                4                        8                         6   \n",
       "698                4                        8                         8   \n",
       "\n",
       "     Marginal Adhesion  Single Epithelial Cell Size Bare Nuclei  \\\n",
       "0                    1                            2           1   \n",
       "1                    5                            7          10   \n",
       "2                    1                            2           2   \n",
       "3                    1                            3           4   \n",
       "4                    3                            2           1   \n",
       "..                 ...                          ...         ...   \n",
       "694                  1                            3           2   \n",
       "695                  1                            2           1   \n",
       "696                  3                            7           3   \n",
       "697                  4                            3           4   \n",
       "698                  5                            4           5   \n",
       "\n",
       "     Bland Chromatin  Normal Nucleoli  Mitoses  Class  \n",
       "0                  3                1        1      2  \n",
       "1                  3                2        1      2  \n",
       "2                  3                1        1      2  \n",
       "3                  3                7        1      2  \n",
       "4                  3                1        1      2  \n",
       "..               ...              ...      ...    ...  \n",
       "694                1                1        1      2  \n",
       "695                1                1        1      2  \n",
       "696                8               10        2      4  \n",
       "697               10                6        1      4  \n",
       "698               10                4        1      4  \n",
       "\n",
       "[699 rows x 10 columns]"
      ]
     },
     "execution_count": 132,
     "metadata": {},
     "output_type": "execute_result"
    }
   ],
   "source": [
    "cancer = pd.read_csv('D:\\\\UOJ\\\\SEMESTER 6\\\\MACHINE LEARNING\\\\2017E082_LAB_5\\\\breast_cancer_wisconsin_data.csv',names=['Sample code number','Clump Thickness','Uniformity of Cell Size','Uniformity of Cell Shape','Marginal Adhesion','Single Epithelial Cell Size','Bare Nuclei','Bland Chromatin','Normal Nucleoli','Mitoses','Class'])\n",
    "cancer.drop(labels= 'Sample code number' , axis = 1 , inplace=True )\n",
    "cancer"
   ]
  },
  {
   "cell_type": "code",
   "execution_count": 133,
   "metadata": {},
   "outputs": [
    {
     "name": "stdout",
     "output_type": "stream",
     "text": [
      "Clump Thickness unique: [ 5  3  6  4  8  1  2  7 10  9]\n",
      "Uniformity of Cell Size unique: [ 1  4  8 10  2  3  7  5  6  9]\n",
      "Uniformity of Cell Shape unique: [ 1  4  8 10  2  3  5  6  7  9]\n",
      "Marginal Adhesion unique: [ 1  5  3  8 10  4  6  2  9  7]\n",
      "Single Epithelial Cell Size unique: [ 2  7  3  1  6  4  5  8 10  9]\n",
      "Bare Nuclei unique: ['1' '10' '2' '4' '3' '9' '7' '?' '5' '8' '6']\n",
      "Bland Chromatin unique: [ 3  9  1  2  4  5  7  8  6 10]\n",
      "Normal Nucleoli unique: [ 1  2  7  4  5  3 10  6  9  8]\n",
      "Mitoses unique: [ 1  5  4  2  3  7 10  8  6]\n",
      "Class unique: [2 4]\n"
     ]
    }
   ],
   "source": [
    "print('Clump Thickness unique:',format(cancer['Clump Thickness'].unique()))\n",
    "print('Uniformity of Cell Size unique:',format(cancer['Uniformity of Cell Size'].unique()))\n",
    "print('Uniformity of Cell Shape unique:',format(cancer['Uniformity of Cell Shape'].unique()))\n",
    "print('Marginal Adhesion unique:',format(cancer['Marginal Adhesion'].unique()))\n",
    "print('Single Epithelial Cell Size unique:',format(cancer['Single Epithelial Cell Size'].unique()))\n",
    "print('Bare Nuclei unique:',format(cancer['Bare Nuclei'].unique()))\n",
    "print('Bland Chromatin unique:',format(cancer['Bland Chromatin'].unique()))\n",
    "print('Normal Nucleoli unique:',format(cancer['Normal Nucleoli'].unique()))\n",
    "print('Mitoses unique:',format(cancer['Mitoses'].unique()))\n",
    "print('Class unique:',format(cancer['Class'].unique()))"
   ]
  },
  {
   "cell_type": "code",
   "execution_count": 134,
   "metadata": {},
   "outputs": [
    {
     "name": "stdout",
     "output_type": "stream",
     "text": [
      "<class 'pandas.core.frame.DataFrame'>\n",
      "RangeIndex: 699 entries, 0 to 698\n",
      "Data columns (total 10 columns):\n",
      " #   Column                       Non-Null Count  Dtype \n",
      "---  ------                       --------------  ----- \n",
      " 0   Clump Thickness              699 non-null    int64 \n",
      " 1   Uniformity of Cell Size      699 non-null    int64 \n",
      " 2   Uniformity of Cell Shape     699 non-null    int64 \n",
      " 3   Marginal Adhesion            699 non-null    int64 \n",
      " 4   Single Epithelial Cell Size  699 non-null    int64 \n",
      " 5   Bare Nuclei                  699 non-null    object\n",
      " 6   Bland Chromatin              699 non-null    int64 \n",
      " 7   Normal Nucleoli              699 non-null    int64 \n",
      " 8   Mitoses                      699 non-null    int64 \n",
      " 9   Class                        699 non-null    int64 \n",
      "dtypes: int64(9), object(1)\n",
      "memory usage: 54.7+ KB\n",
      "1     0.575107\n",
      "10    0.188841\n",
      "5     0.042918\n",
      "2     0.042918\n",
      "3     0.040057\n",
      "8     0.030043\n",
      "4     0.027182\n",
      "?     0.022890\n",
      "9     0.012876\n",
      "7     0.011445\n",
      "6     0.005722\n",
      "Name: Bare Nuclei, dtype: float64 \n",
      "\n"
     ]
    }
   ],
   "source": [
    "# check for null and different format data\n",
    "cancer.info()\n",
    "object_col = cancer.select_dtypes(include=object).columns.tolist()\n",
    "for col in object_col:\n",
    "    print(cancer[col].value_counts(dropna=False)/cancer.shape[0],'\\n')\n",
    "\n",
    "for col in object_col:\n",
    "    cancer.loc[cancer[col]=='?', col] = np.nan\n",
    "    \n",
    "# Perform an missing assessment in each column of the dataset.\n",
    "col_missing_pct = cancer.isna().sum()/cancer.shape[0]\n",
    "col_missing_pct.sort_values(ascending=False)\n",
    "\n",
    "# Remove data entries with missing value\n",
    "cancer = cancer.dropna(axis=0, how='any')"
   ]
  },
  {
   "cell_type": "code",
   "execution_count": 135,
   "metadata": {},
   "outputs": [
    {
     "name": "stdout",
     "output_type": "stream",
     "text": [
      "Clump Thickness unique: [ 5  3  6  4  8  1  2  7 10  9]\n",
      "Uniformity of Cell Size unique: [ 1  4  8 10  2  3  7  5  6  9]\n",
      "Uniformity of Cell Shape unique: [ 1  4  8 10  2  3  5  6  7  9]\n",
      "Marginal Adhesion unique: [ 1  5  3  8 10  4  6  2  9  7]\n",
      "Single Epithelial Cell Size unique: [ 2  7  3  1  6  4  5  8 10  9]\n",
      "Bare Nuclei unique: ['1' '10' '2' '4' '3' '9' '7' '5' '8' '6']\n",
      "Bland Chromatin unique: [ 3  9  1  2  4  5  7  8  6 10]\n",
      "Normal Nucleoli unique: [ 1  2  7  4  5  3 10  6  9  8]\n",
      "Mitoses unique: [ 1  5  4  2  3  7 10  8  6]\n",
      "Class unique: [2 4]\n"
     ]
    }
   ],
   "source": [
    "print('Clump Thickness unique:',format(cancer['Clump Thickness'].unique()))\n",
    "print('Uniformity of Cell Size unique:',format(cancer['Uniformity of Cell Size'].unique()))\n",
    "print('Uniformity of Cell Shape unique:',format(cancer['Uniformity of Cell Shape'].unique()))\n",
    "print('Marginal Adhesion unique:',format(cancer['Marginal Adhesion'].unique()))\n",
    "print('Single Epithelial Cell Size unique:',format(cancer['Single Epithelial Cell Size'].unique()))\n",
    "print('Bare Nuclei unique:',format(cancer['Bare Nuclei'].unique()))\n",
    "print('Bland Chromatin unique:',format(cancer['Bland Chromatin'].unique()))\n",
    "print('Normal Nucleoli unique:',format(cancer['Normal Nucleoli'].unique()))\n",
    "print('Mitoses unique:',format(cancer['Mitoses'].unique()))\n",
    "print('Class unique:',format(cancer['Class'].unique()))"
   ]
  },
  {
   "cell_type": "code",
   "execution_count": 136,
   "metadata": {},
   "outputs": [],
   "source": [
    "X=cancer.drop('Class', axis=1)\n",
    "Y = cancer[\"Class\"]"
   ]
  },
  {
   "cell_type": "code",
   "execution_count": 137,
   "metadata": {},
   "outputs": [],
   "source": [
    "from sklearn.model_selection import train_test_split\n",
    "scaler = MinMaxScaler()\n",
    "data_binary=scaler.fit_transform(X)\n",
    "\n",
    "#spliting train set and test set\n",
    "X_train, X_test, y_train, y_test = train_test_split(X,Y)"
   ]
  },
  {
   "cell_type": "code",
   "execution_count": 138,
   "metadata": {},
   "outputs": [
    {
     "name": "stdout",
     "output_type": "stream",
     "text": [
      "Accuracy 0.9707602339181286%\n",
      "Precision 0.9649122807017543%\n",
      "Recall 0.9690993788819876%\n",
      "F1 0.9669590756270046%\n"
     ]
    },
    {
     "data": {
      "text/plain": [
       "Text(33.0, 0.5, 'Actual classes')"
      ]
     },
     "execution_count": 138,
     "metadata": {},
     "output_type": "execute_result"
    },
    {
     "data": {
      "image/png": "[encoded data removed]",
      "text/plain": [
       "<Figure size 432x288 with 2 Axes>"
      ]
     },
     "metadata": {
      "needs_background": "light"
     },
     "output_type": "display_data"
    }
   ],
   "source": [
    "KNN = KNeighborsClassifier(n_neighbors=2)\n",
    "KNN.fit(X_train, y_train)\n",
    "KNN_pred = KNN.predict(X_test)\n",
    "\n",
    "#Accuracy , Precision , recall, F1 scores\n",
    "accuracy_KNN = accuracy_score(y_test, KNN_pred)\n",
    "precision_KNN =precision_score(y_test, KNN_pred, average='macro')\n",
    "recall_KNN = recall_score(y_test, KNN_pred, average='macro')\n",
    "f1_KNN =f1_score(y_test, KNN_pred, average='macro')\n",
    "\n",
    "#print the score \n",
    "print('Accuracy {}%'.format(accuracy_KNN))\n",
    "print('Precision {}%'.format(precision_KNN))\n",
    "print('Recall {}%'.format(recall_KNN))\n",
    "print('F1 {}%'.format(f1_KNN))\n",
    "\n",
    "con_mat=confusion_matrix(y_test, KNN_pred)\n",
    "#show the heat map\n",
    "sns.heatmap(con_mat, annot=True)\n",
    "plt.xlabel('Predicted classes')\n",
    "plt.ylabel('Actual classes')"
   ]
  },
  {
   "cell_type": "code",
   "execution_count": 139,
   "metadata": {},
   "outputs": [
    {
     "name": "stdout",
     "output_type": "stream",
     "text": [
      "              precision    recall  f1-score   support\n",
      "\n",
      "           2       0.98      0.97      0.98       115\n",
      "           4       0.95      0.96      0.96        56\n",
      "\n",
      "    accuracy                           0.97       171\n",
      "   macro avg       0.96      0.97      0.97       171\n",
      "weighted avg       0.97      0.97      0.97       171\n",
      "\n"
     ]
    }
   ],
   "source": [
    " print(classification_report(y_test, KNN_pred))"
   ]
  },
  {
   "cell_type": "code",
   "execution_count": 120,
   "metadata": {},
   "outputs": [
    {
     "data": {
      "image/png": "[encoded data removed]",
      "text/plain": [
       "<Figure size 432x288 with 1 Axes>"
      ]
     },
     "metadata": {
      "needs_background": "light"
     },
     "output_type": "display_data"
    }
   ],
   "source": [
    "plt.scatter(KNN_pred,y_test)\n",
    "plt.show()"
   ]
  }
 ],
 "metadata": {
  "kernelspec": {
   "display_name": "Python 3",
   "language": "python",
   "name": "python3"
  },
  "language_info": {
   "codemirror_mode": {
    "name": "ipython",
    "version": 3
   },
   "file_extension": ".py",
   "mimetype": "text/x-python",
   "name": "python",
   "nbconvert_exporter": "python",
   "pygments_lexer": "ipython3",
   "version": "3.8.3"
  }
 },
 "nbformat": 4,
 "nbformat_minor": 4
}
