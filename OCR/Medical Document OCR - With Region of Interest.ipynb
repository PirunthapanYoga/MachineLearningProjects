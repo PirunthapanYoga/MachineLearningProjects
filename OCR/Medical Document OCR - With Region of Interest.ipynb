{
 "cells": [
  {
   "cell_type": "code",
   "execution_count": 1,
   "id": "50c5ad54",
   "metadata": {},
   "outputs": [],
   "source": [
    "# pip install pytesseract pdf2image opencv-python poppler keras-ocr tensorflow tabula-py"
   ]
  },
  {
   "cell_type": "code",
   "execution_count": 2,
   "id": "af7ff999",
   "metadata": {},
   "outputs": [],
   "source": [
    "import os\n",
    "import tempfile\n",
    "import re\n",
    "\n",
    "import cv2 as cv2\n",
    "import pytesseract\n",
    "import json\n",
    "import numpy as np\n",
    "import tabula\n",
    "\n",
    "from pdf2image import convert_from_path\n",
    "from PIL import Image"
   ]
  },
  {
   "cell_type": "code",
   "execution_count": 3,
   "id": "afe4b125",
   "metadata": {},
   "outputs": [],
   "source": [
    "# Initial paths\n",
    "poppler_path='C://Users//pirun//Downloads//Compressed//poppler-0.68.0_x86//poppler-0.68.0//bin'\n",
    "pdf_path='C:/Users/pirun/OCR/OCR Task/PDF'"
   ]
  },
  {
   "cell_type": "code",
   "execution_count": 4,
   "id": "f2c3b24a",
   "metadata": {},
   "outputs": [],
   "source": [
    "# convet pdfs and save it in a folder it can handle mul\n",
    "def ConvertImages(pdf_path,file):\n",
    "    f=os.path.join(pdf_path,file)\n",
    "    pages = convert_from_path(f,500,poppler_path=poppler_path)\n",
    "    \n",
    "    parent_dir_img= pdf_path.rsplit('/',1)[0]+'/Image/'\n",
    "    pdf_image_path=parent_dir_img\n",
    "    if (not os.path.exists(parent_dir_img)):\n",
    "        os.mkdir(parent_dir_img)\n",
    "        \n",
    "    child_dir = pdf_path.rsplit('/',1)[0]+'/Image/'+file.rsplit('.',1)[0]+'/'\n",
    "    if (not os.path.exists(child_dir)):\n",
    "        os.mkdir(child_dir)\n",
    "       \n",
    "    page_counter =1\n",
    "    for page in pages:\n",
    "        filename = \"page_\"+str(page_counter)+\".jpg\"\n",
    "        saveLocation = os.path.join(child_dir,filename)\n",
    "        page.save(saveLocation,\"JPEG\")\n",
    "        \n",
    "        # parse the doccument\n",
    "        GetHeaderItems(page_counter , saveLocation)\n",
    "        \n",
    "        page_counter=page_counter+1 "
   ]
  },
  {
   "cell_type": "code",
   "execution_count": null,
   "id": "556445e3",
   "metadata": {},
   "outputs": [],
   "source": [
    "def GetHeaderItems(page_counter , file_directory):\n",
    "    print(\"Page_Number = \" + str(page_counter))\n",
    "    image = Image.open(file_directory)\n",
    "    print(\"\\n\\n\")\n",
    "    RegionTopLeft(image)\n",
    "    RegionBottomLeftFooter(image)\n",
    "    RegionTopRight(image)\n",
    "    RegionFull(image)\n",
    "    NameRegion(image)\n",
    "    RegionBody(image)\n",
    "    print(\"\\n\\n\")"
   ]
  },
  {
   "cell_type": "code",
   "execution_count": 5,
   "id": "b4faad65",
   "metadata": {},
   "outputs": [],
   "source": [
    "for file in os.listdir(pdf_path):\n",
    "    f=os.path.join(pdf_path,file)\n",
    "    if os.path.isfile(f):\n",
    "        ConvertImages(pdf_path,file)"
   ]
  },
  {
   "cell_type": "code",
   "execution_count": null,
   "id": "53bf46b1",
   "metadata": {},
   "outputs": [],
   "source": [
    "def RegionTopLeft(image):\n",
    "    \n",
    "    cropString=(0,0,width/2,height/3)\n",
    "    image = image.crop(cropString)\n",
    "    text = pytesseract.image_to_string(image)\n",
    "\n",
    "    patientName = re.search('(patient|PATIENT|Patient)\\s*(|NAME|Name|name)\\s*:\\s*(\\w+)', text , re.IGNORECASE)\n",
    "    if(patientName):\n",
    "        print(patientName)\n",
    "\n",
    "    gstRegNo = re.search(r'GST REG NO\\s*:\\s*(.*)', text , re.IGNORECASE)\n",
    "    if(gstRegNo):\n",
    "        print(gstRegNo)"
   ]
  },
  {
   "cell_type": "code",
   "execution_count": null,
   "id": "5cab968d",
   "metadata": {},
   "outputs": [],
   "source": [
    "def RegionBottomLeftFooter(image):\n",
    "\n",
    "    cropString=(0,height/10*9,width/3,height)\n",
    "    image = image.crop(cropString)\n",
    "    text = pytesseract.image_to_string(image)\n",
    "\n",
    "    pageOf= re.search('(Page)\\s*(.*)', text , re.IGNORECASE)\n",
    "    if(pageOf):\n",
    "        print(pageOf) \n",
    "\n",
    "    hospitalClinic = re.search(r'(.*)(Hos(.*)|cli(.*))(.*)', text , re.IGNORECASE)\n",
    "    if(hospitalClinic)\n",
    "        print(hospitalClinic)"
   ]
  },
  {
   "cell_type": "code",
   "execution_count": null,
   "id": "77ecf257",
   "metadata": {},
   "outputs": [],
   "source": [
    "def RegionTopRight(image):\n",
    "    \n",
    "    cropString=(width/2,0,width,height/3)\n",
    "    image = image.crop(cropString)\n",
    "    text = pytesseract.image_to_string(image1)\n",
    "\n",
    "    pageOf= re.search('(Page)\\s*(.*)',text , re.IGNORECASE)\n",
    "    if(pageOf):\n",
    "        print(pageOf)\n",
    "\n",
    "    gstRegNo = re.search(r'GST REG NO\\s*:\\s*(.*)', text , re.IGNORECASE)\n",
    "    if(gstRegNo):\n",
    "        print(gstRegNo)\n",
    "\n",
    "    patientNationalID = re.search(r'\\b(.*?NRIC(.*))\\b', text , re.IGNORECASE)\n",
    "    if(patientNationalID):\n",
    "        print(patientNationalID)\n",
    "\n",
    "    visitDate = re.search(r'(Visit)\\s*(Date)\\s*(.*)', text , re.IGNORECASE)\n",
    "    if(visitDate):\n",
    "        print(visitDate)\n",
    "\n",
    "    taxInvoiceDate = re.search(r'(Tax\\s*)?(Invoice)\\s*(Date)\\s*(.*)', text , re.IGNORECASE)\n",
    "    if(taxInvoiceDate):\n",
    "        print(taxInvoiceDate)\n",
    "\n",
    "    BillReceiptDate = re.search(r'((Bill\\s*)|(Receipt\\s*))(Date)\\s*(.*)', text , re.IGNORECASE)\n",
    "    if(BillReceiptDate):\n",
    "        print(BillReceiptDate)\n",
    "\n",
    "    admissionDate = re.search(r'(Admission)\\s*(Date)\\s*(.*)', text , re.IGNORECASE)\n",
    "    if(admissionDate):\n",
    "        print(admissionDate)\n",
    "\n",
    "    billReferenceNumber = re.search(r'(((Bill\\s*)?(Ref|Reference)\\s*)|(case\\s*))\\s*(Number|No)\\s*(.*)', text , re.IGNORECASE)\n",
    "    if(billReferenceNumber):\n",
    "        print(billReferenceNumber)\n",
    "\n",
    "    location = re.search(r'(.*)?(Location)\\s*(.*)', text , re.IGNORECASE)\n",
    "    if(location):\n",
    "        print(location)"
   ]
  },
  {
   "cell_type": "code",
   "execution_count": null,
   "id": "02881850",
   "metadata": {},
   "outputs": [],
   "source": [
    "def RegionFull(image):\n",
    "    \n",
    "    text = pytesseract.image_to_string(image)\n",
    "\n",
    "    billType = re.search('(ORIGINAL|DUPLICATE|INTERIM|Adjusted)', text , re.IGNORECASE)\n",
    "    if(billType):\n",
    "        print(billType)\n",
    "        \n",
    "    dischargeDate = re.search('([0-3]\\s)([0-9]\\s)[JFMASOND][AEPUECO][NBRYLGPTVC]\\s[2][0-9][0-9][0-9]', text , re.IGNORECASE)\n",
    "    if(dischargeDate):\n",
    "        print(totalPayable\n",
    "              \n",
    "    totalPayable = re.search('(Net|Total)\\s(Amount)\\s(.*)', text , re.IGNORECASE)\n",
    "    if(totalPayable):\n",
    "        print(totalPayable)\n",
    "    \n",
    "    doctorName = re.search(r'served by\\s(.*)', text)\n",
    "    if(doctorName):\n",
    "        print(doctorName)\n",
    "    "
   ]
  },
  {
   "cell_type": "code",
   "execution_count": null,
   "id": "7c72e67e",
   "metadata": {},
   "outputs": [],
   "source": [
    "def NameRegion(image):\n",
    "    \n",
    "    width,height = image.size\n",
    "    cropString=(width/11,0,width/3.6,height/10*1)\n",
    "    image = image.crop(cropString)\n",
    "    image.show()\n",
    "\n",
    "    text = pytesseract.image_to_string(image)\n",
    "    print(text)\n",
    "    hospitalClinic = re.search(r'(.*)(\\r?\\n)?(.*)(Hos(.*)|cli(.*))', text , re.IGNORECASE)\n",
    "    hospitalClinic = re.sub(r'\\n', ' ', hospitalClinic.group(0))\n",
    "    if(hospitalClinic)\n",
    "        print(hospitalClinic)"
   ]
  },
  {
   "cell_type": "code",
   "execution_count": null,
   "id": "6fa38b11",
   "metadata": {},
   "outputs": [],
   "source": [
    "def RegionBody(image):\n",
    "    width,height = image.size\n",
    "    cropString=(0,height/4,width,height/4*3)\n",
    "    image = image.crop(cropString)\n",
    "\n",
    "    text = pytesseract.image_to_string(image)\n",
    "    table = re.findall('(.*)(\\d{1,3})\\s(\\d{1,5}\\.\\d{2})',text,re.IGNORECASE)\n",
    "    for row in table:\n",
    "        print(row)"
   ]
  }
 ],
 "metadata": {
  "kernelspec": {
   "display_name": "Python 3 (ipykernel)",
   "language": "python",
   "name": "python3"
  },
  "language_info": {
   "codemirror_mode": {
    "name": "ipython",
    "version": 3
   },
   "file_extension": ".py",
   "mimetype": "text/x-python",
   "name": "python",
   "nbconvert_exporter": "python",
   "pygments_lexer": "ipython3",
   "version": "3.9.13"
  }
 },
 "nbformat": 4,
 "nbformat_minor": 5
}
