{
 "cells": [
  {
   "cell_type": "code",
   "execution_count": 8,
   "id": "044d2a21",
   "metadata": {},
   "outputs": [],
   "source": [
    "# pip install pytesseract pdf2image opencv-python poppler keras-ocr tensorflow tabula-py"
   ]
  },
  {
   "cell_type": "code",
   "execution_count": 9,
   "id": "7a63618b",
   "metadata": {},
   "outputs": [],
   "source": [
    "# Initial paths\n",
    "poppler_path='C://Users//pirun//Downloads//Compressed//poppler-0.68.0_x86//poppler-0.68.0//bin'\n",
    "pdf_folder_path='C:/Users/pirun/OCR/OCR Task/PDF'"
   ]
  },
  {
   "cell_type": "code",
   "execution_count": 10,
   "id": "84407a90",
   "metadata": {},
   "outputs": [],
   "source": [
    "import os\n",
    "import tempfile\n",
    "import re\n",
    "\n",
    "import cv2 as cv2\n",
    "import pytesseract\n",
    "import json\n",
    "import numpy as np\n",
    "import tabula\n",
    "\n",
    "from pdf2image import convert_from_path\n",
    "from PIL import Image"
   ]
  },
  {
   "cell_type": "code",
   "execution_count": 11,
   "id": "b718e90c",
   "metadata": {},
   "outputs": [],
   "source": [
    "def ConvertImages(pdf_path,file):\n",
    "    f=os.path.join(pdf_path,file)\n",
    "    pages = convert_from_path(f,500,poppler_path=poppler_path)\n",
    "    \n",
    "    global parent_dir_img\n",
    "    parent_dir_img= pdf_path.rsplit('/',1)[0]+'/Image/'\n",
    "    pdf_image_path=parent_dir_img\n",
    "    if (not os.path.exists(parent_dir_img)):\n",
    "        os.mkdir(parent_dir_img)\n",
    "        \n",
    "    child_dir = pdf_path.rsplit('/',1)[0]+'/Image/'+file.rsplit('.',1)[0]+'/'\n",
    "    if (not os.path.exists(child_dir)):\n",
    "        os.mkdir(child_dir)\n",
    "       \n",
    "    page_counter =1\n",
    "    for page in pages:\n",
    "        filename = \"page_\"+str(page_counter)+\".jpg\"\n",
    "        saveLocation = os.path.join(child_dir,filename)\n",
    "        page.save(saveLocation,\"JPEG\")\n",
    "        GetHeaderItems(page_counter , saveLocation)\n",
    "        page_counter=page_counter+1 "
   ]
  },
  {
   "cell_type": "code",
   "execution_count": 5,
   "id": "6847782d",
   "metadata": {},
   "outputs": [],
   "source": [
    "def extract_items(text):\n",
    "    \n",
    "    patientName = re.search('(patient|PATIENT|Patient)\\s*(|NAME|Name|name)\\s*:\\s*(\\w+)', text , re.IGNORECASE)\n",
    "    if(patientName):\n",
    "        print(patientName)\n",
    "\n",
    "    gstRegNo = re.search(r'GST REG NO\\s*:\\s*(.*)', text , re.IGNORECASE)\n",
    "    if(gstRegNo):\n",
    "        print(gstRegNo)\n",
    "        \n",
    "    pageOf= re.search('(Page)\\s*(.*)', text , re.IGNORECASE)\n",
    "    if(pageOf):\n",
    "        print(pageOf) \n",
    "\n",
    "    hospitalClinic = re.search(r'(.*)(Hos(.*)|cli(.*))(.*)', text , re.IGNORECASE)\n",
    "    if(hospitalClinic):\n",
    "        print(hospitalClinic)\n",
    "        \n",
    "    pageOf= re.search('(Page)\\s*(.*)',text , re.IGNORECASE)\n",
    "    if(pageOf):\n",
    "        print(pageOf)\n",
    "\n",
    "    gstRegNo = re.search(r'GST REG NO\\s*:\\s*(.*)', text , re.IGNORECASE)\n",
    "    if(gstRegNo):\n",
    "        print(gstRegNo)\n",
    "\n",
    "    patientNationalID = re.search(r'\\b(.*?NRIC(.*))\\b', text , re.IGNORECASE)\n",
    "    if(patientNationalID):\n",
    "        print(patientNationalID)\n",
    "\n",
    "    visitDate = re.search(r'(Visit)\\s*(Date)\\s*(.*)', text , re.IGNORECASE)\n",
    "    if(visitDate):\n",
    "        print(visitDate)\n",
    "\n",
    "    taxInvoiceDate = re.search(r'(Tax\\s*)?(Invoice)\\s*(Date)\\s*(.*)', text , re.IGNORECASE)\n",
    "    if(taxInvoiceDate):\n",
    "        print(taxInvoiceDate)\n",
    "\n",
    "    BillReceiptDate = re.search(r'((Bill\\s*)|(Receipt\\s*))(Date)\\s*(.*)', text , re.IGNORECASE)\n",
    "    if(BillReceiptDate):\n",
    "        print(BillReceiptDate)\n",
    "\n",
    "    admissionDate = re.search(r'(Admission)\\s*(Date)\\s*(.*)', text , re.IGNORECASE)\n",
    "    if(admissionDate):\n",
    "        print(admissionDate)\n",
    "\n",
    "    billReferenceNumber = re.search(r'(((Bill\\s*)?(Ref|Reference)\\s*)|(case\\s*))\\s*(Number|No)\\s*(.*)', text , re.IGNORECASE)\n",
    "    if(billReferenceNumber):\n",
    "        print(billReferenceNumber)\n",
    "\n",
    "    location = re.search(r'(.*)?(Location)\\s*(.*)', text , re.IGNORECASE)\n",
    "    if(location):\n",
    "        print(location)\n",
    "        \n",
    "    billType = re.search('(ORIGINAL|DUPLICATE|INTERIM|Adjusted)', text , re.IGNORECASE)\n",
    "    if(billType):\n",
    "        print(billType)\n",
    "        \n",
    "    dischargeDate = re.search('([0-3]\\s)([0-9]\\s)[JFMASOND][AEPUECO][NBRYLGPTVC]\\s[2][0-9][0-9][0-9]', text , re.IGNORECASE)\n",
    "    if(dischargeDate):\n",
    "        print(dischargeDate)\n",
    "              \n",
    "    totalPayable = re.search('(Net|Total)\\s(Amount)\\s(.*)', text , re.IGNORECASE)\n",
    "    if(totalPayable):\n",
    "        print(totalPayable)\n",
    "    \n",
    "    doctorName = re.search(r'served by\\s(.*)', text)\n",
    "    if(doctorName):\n",
    "        print(doctorName)\n",
    "              \n",
    "    hospitalClinic = re.search(r'(.*)(\\r?\\n)?(.*)(Hos(.*)|cli(.*))', text , re.IGNORECASE)\n",
    "    if(hospitalClinic):\n",
    "#         hospitalClinic = re.sub(r'\\n', ' ', hospitalClinic.group(0))\n",
    "        print(hospitalClinic)"
   ]
  },
  {
   "cell_type": "code",
   "execution_count": 6,
   "id": "8d57e57b",
   "metadata": {
    "scrolled": false
   },
   "outputs": [],
   "source": [
    "def GetHeaderItems(page_counter , file_directory):\n",
    "    print(\"Page_Number = \" + str(page_counter))\n",
    "    image = Image.open(file_directory)\n",
    "    text = pytesseract.image_to_string(image)\n",
    "    print(\"\\n\\n\")\n",
    "    extract_items(text)\n",
    "    print(\"\\n\\n\")"
   ]
  },
  {
   "cell_type": "code",
   "execution_count": null,
   "id": "8b9b30e2",
   "metadata": {},
   "outputs": [],
   "source": []
  },
  {
   "cell_type": "code",
   "execution_count": 7,
   "id": "ffe63639",
   "metadata": {
    "scrolled": false
   },
   "outputs": [
    {
     "ename": "KeyboardInterrupt",
     "evalue": "",
     "output_type": "error",
     "traceback": [
      "\u001b[1;31m---------------------------------------------------------------------------\u001b[0m",
      "\u001b[1;31mKeyboardInterrupt\u001b[0m                         Traceback (most recent call last)",
      "\u001b[1;32m~\\AppData\\Local\\Temp\\ipykernel_39708\\3788959443.py\u001b[0m in \u001b[0;36m<module>\u001b[1;34m\u001b[0m\n\u001b[0;32m      4\u001b[0m     \u001b[0mf\u001b[0m\u001b[1;33m=\u001b[0m\u001b[0mos\u001b[0m\u001b[1;33m.\u001b[0m\u001b[0mpath\u001b[0m\u001b[1;33m.\u001b[0m\u001b[0mjoin\u001b[0m\u001b[1;33m(\u001b[0m\u001b[0mpdf_path\u001b[0m\u001b[1;33m,\u001b[0m\u001b[0mfile\u001b[0m\u001b[1;33m)\u001b[0m\u001b[1;33m\u001b[0m\u001b[1;33m\u001b[0m\u001b[0m\n\u001b[0;32m      5\u001b[0m     \u001b[1;32mif\u001b[0m \u001b[0mos\u001b[0m\u001b[1;33m.\u001b[0m\u001b[0mpath\u001b[0m\u001b[1;33m.\u001b[0m\u001b[0misfile\u001b[0m\u001b[1;33m(\u001b[0m\u001b[0mf\u001b[0m\u001b[1;33m)\u001b[0m\u001b[1;33m:\u001b[0m\u001b[1;33m\u001b[0m\u001b[1;33m\u001b[0m\u001b[0m\n\u001b[1;32m----> 6\u001b[1;33m         \u001b[0mConvertImages\u001b[0m\u001b[1;33m(\u001b[0m\u001b[0mpdf_path\u001b[0m\u001b[1;33m,\u001b[0m\u001b[0mfile\u001b[0m\u001b[1;33m)\u001b[0m\u001b[1;33m\u001b[0m\u001b[1;33m\u001b[0m\u001b[0m\n\u001b[0m",
      "\u001b[1;32m~\\AppData\\Local\\Temp\\ipykernel_39708\\3760869531.py\u001b[0m in \u001b[0;36mConvertImages\u001b[1;34m(pdf_path, file)\u001b[0m\n\u001b[0;32m      1\u001b[0m \u001b[1;32mdef\u001b[0m \u001b[0mConvertImages\u001b[0m\u001b[1;33m(\u001b[0m\u001b[0mpdf_path\u001b[0m\u001b[1;33m,\u001b[0m\u001b[0mfile\u001b[0m\u001b[1;33m)\u001b[0m\u001b[1;33m:\u001b[0m\u001b[1;33m\u001b[0m\u001b[1;33m\u001b[0m\u001b[0m\n\u001b[0;32m      2\u001b[0m     \u001b[0mf\u001b[0m\u001b[1;33m=\u001b[0m\u001b[0mos\u001b[0m\u001b[1;33m.\u001b[0m\u001b[0mpath\u001b[0m\u001b[1;33m.\u001b[0m\u001b[0mjoin\u001b[0m\u001b[1;33m(\u001b[0m\u001b[0mpdf_path\u001b[0m\u001b[1;33m,\u001b[0m\u001b[0mfile\u001b[0m\u001b[1;33m)\u001b[0m\u001b[1;33m\u001b[0m\u001b[1;33m\u001b[0m\u001b[0m\n\u001b[1;32m----> 3\u001b[1;33m     \u001b[0mpages\u001b[0m \u001b[1;33m=\u001b[0m \u001b[0mconvert_from_path\u001b[0m\u001b[1;33m(\u001b[0m\u001b[0mf\u001b[0m\u001b[1;33m,\u001b[0m\u001b[1;36m500\u001b[0m\u001b[1;33m,\u001b[0m\u001b[0mpoppler_path\u001b[0m\u001b[1;33m=\u001b[0m\u001b[0mpoppler_path\u001b[0m\u001b[1;33m)\u001b[0m\u001b[1;33m\u001b[0m\u001b[1;33m\u001b[0m\u001b[0m\n\u001b[0m\u001b[0;32m      4\u001b[0m \u001b[1;33m\u001b[0m\u001b[0m\n\u001b[0;32m      5\u001b[0m     \u001b[1;32mglobal\u001b[0m \u001b[0mparent_dir_img\u001b[0m\u001b[1;33m\u001b[0m\u001b[1;33m\u001b[0m\u001b[0m\n",
      "\u001b[1;32m~\\anaconda3\\lib\\site-packages\\pdf2image\\pdf2image.py\u001b[0m in \u001b[0;36mconvert_from_path\u001b[1;34m(pdf_path, dpi, output_folder, first_page, last_page, fmt, jpegopt, thread_count, userpw, ownerpw, use_cropbox, strict, transparent, single_file, output_file, poppler_path, grayscale, size, paths_only, use_pdftocairo, timeout, hide_annotations)\u001b[0m\n\u001b[0;32m    248\u001b[0m         \u001b[1;32mfor\u001b[0m \u001b[0muid\u001b[0m\u001b[1;33m,\u001b[0m \u001b[0mproc\u001b[0m \u001b[1;32min\u001b[0m \u001b[0mprocesses\u001b[0m\u001b[1;33m:\u001b[0m\u001b[1;33m\u001b[0m\u001b[1;33m\u001b[0m\u001b[0m\n\u001b[0;32m    249\u001b[0m             \u001b[1;32mtry\u001b[0m\u001b[1;33m:\u001b[0m\u001b[1;33m\u001b[0m\u001b[1;33m\u001b[0m\u001b[0m\n\u001b[1;32m--> 250\u001b[1;33m                 \u001b[0mdata\u001b[0m\u001b[1;33m,\u001b[0m \u001b[0merr\u001b[0m \u001b[1;33m=\u001b[0m \u001b[0mproc\u001b[0m\u001b[1;33m.\u001b[0m\u001b[0mcommunicate\u001b[0m\u001b[1;33m(\u001b[0m\u001b[0mtimeout\u001b[0m\u001b[1;33m=\u001b[0m\u001b[0mtimeout\u001b[0m\u001b[1;33m)\u001b[0m\u001b[1;33m\u001b[0m\u001b[1;33m\u001b[0m\u001b[0m\n\u001b[0m\u001b[0;32m    251\u001b[0m             \u001b[1;32mexcept\u001b[0m \u001b[0mTimeoutExpired\u001b[0m\u001b[1;33m:\u001b[0m\u001b[1;33m\u001b[0m\u001b[1;33m\u001b[0m\u001b[0m\n\u001b[0;32m    252\u001b[0m                 \u001b[0mproc\u001b[0m\u001b[1;33m.\u001b[0m\u001b[0mkill\u001b[0m\u001b[1;33m(\u001b[0m\u001b[1;33m)\u001b[0m\u001b[1;33m\u001b[0m\u001b[1;33m\u001b[0m\u001b[0m\n",
      "\u001b[1;32m~\\anaconda3\\lib\\subprocess.py\u001b[0m in \u001b[0;36mcommunicate\u001b[1;34m(self, input, timeout)\u001b[0m\n\u001b[0;32m   1132\u001b[0m \u001b[1;33m\u001b[0m\u001b[0m\n\u001b[0;32m   1133\u001b[0m             \u001b[1;32mtry\u001b[0m\u001b[1;33m:\u001b[0m\u001b[1;33m\u001b[0m\u001b[1;33m\u001b[0m\u001b[0m\n\u001b[1;32m-> 1134\u001b[1;33m                 \u001b[0mstdout\u001b[0m\u001b[1;33m,\u001b[0m \u001b[0mstderr\u001b[0m \u001b[1;33m=\u001b[0m \u001b[0mself\u001b[0m\u001b[1;33m.\u001b[0m\u001b[0m_communicate\u001b[0m\u001b[1;33m(\u001b[0m\u001b[0minput\u001b[0m\u001b[1;33m,\u001b[0m \u001b[0mendtime\u001b[0m\u001b[1;33m,\u001b[0m \u001b[0mtimeout\u001b[0m\u001b[1;33m)\u001b[0m\u001b[1;33m\u001b[0m\u001b[1;33m\u001b[0m\u001b[0m\n\u001b[0m\u001b[0;32m   1135\u001b[0m             \u001b[1;32mexcept\u001b[0m \u001b[0mKeyboardInterrupt\u001b[0m\u001b[1;33m:\u001b[0m\u001b[1;33m\u001b[0m\u001b[1;33m\u001b[0m\u001b[0m\n\u001b[0;32m   1136\u001b[0m                 \u001b[1;31m# https://bugs.python.org/issue25942\u001b[0m\u001b[1;33m\u001b[0m\u001b[1;33m\u001b[0m\u001b[0m\n",
      "\u001b[1;32m~\\anaconda3\\lib\\subprocess.py\u001b[0m in \u001b[0;36m_communicate\u001b[1;34m(self, input, endtime, orig_timeout)\u001b[0m\n\u001b[0;32m   1506\u001b[0m             \u001b[1;31m# calls communicate again.\u001b[0m\u001b[1;33m\u001b[0m\u001b[1;33m\u001b[0m\u001b[0m\n\u001b[0;32m   1507\u001b[0m             \u001b[1;32mif\u001b[0m \u001b[0mself\u001b[0m\u001b[1;33m.\u001b[0m\u001b[0mstdout\u001b[0m \u001b[1;32mis\u001b[0m \u001b[1;32mnot\u001b[0m \u001b[1;32mNone\u001b[0m\u001b[1;33m:\u001b[0m\u001b[1;33m\u001b[0m\u001b[1;33m\u001b[0m\u001b[0m\n\u001b[1;32m-> 1508\u001b[1;33m                 \u001b[0mself\u001b[0m\u001b[1;33m.\u001b[0m\u001b[0mstdout_thread\u001b[0m\u001b[1;33m.\u001b[0m\u001b[0mjoin\u001b[0m\u001b[1;33m(\u001b[0m\u001b[0mself\u001b[0m\u001b[1;33m.\u001b[0m\u001b[0m_remaining_time\u001b[0m\u001b[1;33m(\u001b[0m\u001b[0mendtime\u001b[0m\u001b[1;33m)\u001b[0m\u001b[1;33m)\u001b[0m\u001b[1;33m\u001b[0m\u001b[1;33m\u001b[0m\u001b[0m\n\u001b[0m\u001b[0;32m   1509\u001b[0m                 \u001b[1;32mif\u001b[0m \u001b[0mself\u001b[0m\u001b[1;33m.\u001b[0m\u001b[0mstdout_thread\u001b[0m\u001b[1;33m.\u001b[0m\u001b[0mis_alive\u001b[0m\u001b[1;33m(\u001b[0m\u001b[1;33m)\u001b[0m\u001b[1;33m:\u001b[0m\u001b[1;33m\u001b[0m\u001b[1;33m\u001b[0m\u001b[0m\n\u001b[0;32m   1510\u001b[0m                     \u001b[1;32mraise\u001b[0m \u001b[0mTimeoutExpired\u001b[0m\u001b[1;33m(\u001b[0m\u001b[0mself\u001b[0m\u001b[1;33m.\u001b[0m\u001b[0margs\u001b[0m\u001b[1;33m,\u001b[0m \u001b[0morig_timeout\u001b[0m\u001b[1;33m)\u001b[0m\u001b[1;33m\u001b[0m\u001b[1;33m\u001b[0m\u001b[0m\n",
      "\u001b[1;32m~\\anaconda3\\lib\\threading.py\u001b[0m in \u001b[0;36mjoin\u001b[1;34m(self, timeout)\u001b[0m\n\u001b[0;32m   1058\u001b[0m \u001b[1;33m\u001b[0m\u001b[0m\n\u001b[0;32m   1059\u001b[0m         \u001b[1;32mif\u001b[0m \u001b[0mtimeout\u001b[0m \u001b[1;32mis\u001b[0m \u001b[1;32mNone\u001b[0m\u001b[1;33m:\u001b[0m\u001b[1;33m\u001b[0m\u001b[1;33m\u001b[0m\u001b[0m\n\u001b[1;32m-> 1060\u001b[1;33m             \u001b[0mself\u001b[0m\u001b[1;33m.\u001b[0m\u001b[0m_wait_for_tstate_lock\u001b[0m\u001b[1;33m(\u001b[0m\u001b[1;33m)\u001b[0m\u001b[1;33m\u001b[0m\u001b[1;33m\u001b[0m\u001b[0m\n\u001b[0m\u001b[0;32m   1061\u001b[0m         \u001b[1;32melse\u001b[0m\u001b[1;33m:\u001b[0m\u001b[1;33m\u001b[0m\u001b[1;33m\u001b[0m\u001b[0m\n\u001b[0;32m   1062\u001b[0m             \u001b[1;31m# the behavior of a negative timeout isn't documented, but\u001b[0m\u001b[1;33m\u001b[0m\u001b[1;33m\u001b[0m\u001b[0m\n",
      "\u001b[1;32m~\\anaconda3\\lib\\threading.py\u001b[0m in \u001b[0;36m_wait_for_tstate_lock\u001b[1;34m(self, block, timeout)\u001b[0m\n\u001b[0;32m   1078\u001b[0m \u001b[1;33m\u001b[0m\u001b[0m\n\u001b[0;32m   1079\u001b[0m         \u001b[1;32mtry\u001b[0m\u001b[1;33m:\u001b[0m\u001b[1;33m\u001b[0m\u001b[1;33m\u001b[0m\u001b[0m\n\u001b[1;32m-> 1080\u001b[1;33m             \u001b[1;32mif\u001b[0m \u001b[0mlock\u001b[0m\u001b[1;33m.\u001b[0m\u001b[0macquire\u001b[0m\u001b[1;33m(\u001b[0m\u001b[0mblock\u001b[0m\u001b[1;33m,\u001b[0m \u001b[0mtimeout\u001b[0m\u001b[1;33m)\u001b[0m\u001b[1;33m:\u001b[0m\u001b[1;33m\u001b[0m\u001b[1;33m\u001b[0m\u001b[0m\n\u001b[0m\u001b[0;32m   1081\u001b[0m                 \u001b[0mlock\u001b[0m\u001b[1;33m.\u001b[0m\u001b[0mrelease\u001b[0m\u001b[1;33m(\u001b[0m\u001b[1;33m)\u001b[0m\u001b[1;33m\u001b[0m\u001b[1;33m\u001b[0m\u001b[0m\n\u001b[0;32m   1082\u001b[0m                 \u001b[0mself\u001b[0m\u001b[1;33m.\u001b[0m\u001b[0m_stop\u001b[0m\u001b[1;33m(\u001b[0m\u001b[1;33m)\u001b[0m\u001b[1;33m\u001b[0m\u001b[1;33m\u001b[0m\u001b[0m\n",
      "\u001b[1;31mKeyboardInterrupt\u001b[0m: "
     ]
    }
   ],
   "source": [
    "pdf_path =pdf_folder_path\n",
    "\n",
    "for file in os.listdir(pdf_path):\n",
    "    f=os.path.join(pdf_path,file)\n",
    "    if os.path.isfile(f):\n",
    "        ConvertImages(pdf_path,file)"
   ]
  },
  {
   "cell_type": "code",
   "execution_count": null,
   "id": "757af90b",
   "metadata": {
    "scrolled": false
   },
   "outputs": [],
   "source": [
    "image_path='C:\\\\Users\\\\pirun\\\\OCR\\\\OCR Task\\\\Image\\\\Sample_For_Assignment\\\\page_1.jpg'\n",
    "image=Image.open(image_path)\n",
    "\n",
    "width,height = image.size\n",
    "cropString=(0,height/3-180,width,height/4*3)\n",
    "image = image.crop(cropString)\n",
    "image.show()\n",
    "\n",
    "text = pytesseract.image_to_string(image , config='--psm 6')\n",
    "\n",
    "# lines = text.split('\\n')\n",
    "# for line in lines:\n",
    "#     match = re.search('(([A-Za-z]|[0-9]|[A-Za-z0-9]|[A-Z0-9]|[a-z0-9]){1,10})\\s+(.+)([1-9]{1,5})\\s+([0-9]{1,5})(\\.|\\,)([0-9]{2})',line , re.IGNORECASE)\n",
    "#     if(match):\n",
    "#         print(str(match.group()).split(\" \",1)[0])\n",
    "#         print(str(match.group()).rsplit(\" \",2)[0].split(\" \",1)[1])\n",
    "#         print(str(match.group()).rsplit(\" \",2)[1])\n",
    "#         print(str(match.group()).rsplit(\" \",2)[2])\n",
    "#         print(\"\\n\\n\")"
   ]
  },
  {
   "cell_type": "code",
   "execution_count": 61,
   "id": "4a25e6d1",
   "metadata": {},
   "outputs": [
    {
     "name": "stdout",
     "output_type": "stream",
     "text": [
      "Patient : dasdasdasd HAE\n",
      "Payment Class -PRIVATE\n",
      "Type of Supply : Cash/Credit\n",
      "LABORATORY INVESTIGATIONS Subtotal 2296.51\n",
      "HLA03074 HLA DOB TYPING (PCR INT TO HIGH RES) 1 243.93\n",
      "HF703102 HANDLING FEE 1 18.00\n",
      "HLA09027 HLA ABCDR TYPING (SBT) FOR LOCAL TRANSPLANT 1 885.98\n",
      "HF703102 HANDLING FEE 1 18,00\n",
      "10009606 CREATININE CLEARANCE TEST (CCT) 1 24.90\n",
      "10010709 GLUCOSE-6-PHOSPHATE DEHYDROGENAS 1 23.30\n",
      "10010709 GLUCOSE-6-PHOSPHATE DEHYDROGENAS 1 23.30\n",
      "10019326 VARICELLA-ZOSTER IGG AB 1 43.80\n",
      "10024120 CYTOMEGALOVIRUS IGM AB 1 54.00\n",
      "10025806 ANTIBODY TITRATIN SALINE 2 86.40\n",
      "10030509 VDRL TEST 1 38,70\n",
      "10033603 HEPATITIS B SURFACE ANTIGEN (HBS) 1 28.70\n",
      "10033647 HEPATITIS C ANTIBODY 4 50.20\n",
      "11007650 VNTR ANALYSIS 1 297.80\n",
      "1Z70213002 ZIKA VIRUS PCR 4 150.00\n",
      "22002309 HIV SCREEN~ | 37.80\n",
      "70205046 HEPATITIS B CORE TOTAL AB 1 53.90\n",
      "70205050 CYTOMEGALOVIRUS IGG AB EIA 1 41.10\n",
      "70205065 HTLV I/IL ANTIBODY 1 103.90\n",
      "ABO ABO AND RHO TYPING 2 72.80\n",
      "Subtotal Charges 2296.51\n",
      "SS eee Pal Charges Payable] 2296.57\n",
      "“AMOUNT PAYABLE BEFORE TAXON 2296 ET\n",
      "ADD ; 7% GST 160.77\n",
      "AMOUNT PAYABLE AFTER TAX ~ 2457.28\n",
      "\n"
     ]
    }
   ],
   "source": [
    "image_path='C:\\\\Users\\\\pirun\\\\OCR\\\\OCR Task\\\\Image\\\\Sample_For_Assignment\\\\page_1.jpg'\n",
    "image=Image.open(image_path)\n",
    "width,height = image.size\n",
    "cropString=(0,height/4,width,height/4*3)\n",
    "image = image.crop(cropString)\n",
    "image.show()\n",
    "text = pytesseract.image_to_string(image, config = '--psm 6')\n",
    "print(text)\n",
    "totalPayable = re.search('(Net|Total)\\s(Amount)\\s(.*)', text , re.IGNORECASE)\n",
    "if(totalPayable):\n",
    "    print(totalPayable.group())"
   ]
  },
  {
   "cell_type": "code",
   "execution_count": null,
   "id": "7e2c814f",
   "metadata": {},
   "outputs": [],
   "source": []
  }
 ],
 "metadata": {
  "kernelspec": {
   "display_name": "Python 3 (ipykernel)",
   "language": "python",
   "name": "python3"
  },
  "language_info": {
   "codemirror_mode": {
    "name": "ipython",
    "version": 3
   },
   "file_extension": ".py",
   "mimetype": "text/x-python",
   "name": "python",
   "nbconvert_exporter": "python",
   "pygments_lexer": "ipython3",
   "version": "3.9.13"
  }
 },
 "nbformat": 4,
 "nbformat_minor": 5
}
